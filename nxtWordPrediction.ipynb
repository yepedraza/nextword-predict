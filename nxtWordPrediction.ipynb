{
  "nbformat": 4,
  "nbformat_minor": 0,
  "metadata": {
    "colab": {
      "name": "nxtWordPrediction.ipynb",
      "provenance": [],
      "collapsed_sections": [
        "dr4rfH59-MpE",
        "4lwJtiqKAGSZ",
        "K6aAcdxnAKlh",
        "Khz8U4_4XH6X",
        "tlbU6tRFXSH5",
        "dbPP4ea6XXGz"
      ],
      "authorship_tag": "ABX9TyPD8KENatYhIxh988NGCC03",
      "include_colab_link": true
    },
    "kernelspec": {
      "name": "python3",
      "display_name": "Python 3"
    },
    "language_info": {
      "name": "python"
    },
    "accelerator": "GPU"
  },
  "cells": [
    {
      "cell_type": "markdown",
      "metadata": {
        "id": "view-in-github",
        "colab_type": "text"
      },
      "source": [
        "<a href=\"https://colab.research.google.com/github/yepedraza/nextword-predict/blob/master/nxtWordPrediction.ipynb\" target=\"_parent\"><img src=\"https://colab.research.google.com/assets/colab-badge.svg\" alt=\"Open In Colab\"/></a>"
      ]
    },
    {
      "cell_type": "markdown",
      "source": [
        "### **Google Drive connection**"
      ],
      "metadata": {
        "id": "dr4rfH59-MpE"
      }
    },
    {
      "cell_type": "code",
      "source": [
        "from google.colab import drive\n",
        "drive.mount('/content/drive')"
      ],
      "metadata": {
        "colab": {
          "base_uri": "https://localhost:8080/"
        },
        "id": "j0ezVnEoq8N_",
        "outputId": "1a2e4a4c-5201-43b6-c3ac-4382d78af996"
      },
      "execution_count": 1,
      "outputs": [
        {
          "output_type": "stream",
          "name": "stdout",
          "text": [
            "Mounted at /content/drive\n"
          ]
        }
      ]
    },
    {
      "cell_type": "markdown",
      "source": [
        "### **Libraries import**"
      ],
      "metadata": {
        "id": "4lwJtiqKAGSZ"
      }
    },
    {
      "cell_type": "code",
      "execution_count": 2,
      "metadata": {
        "id": "fmneXBZyqlJ6"
      },
      "outputs": [],
      "source": [
        "import tensorflow as tf\n",
        "from tensorflow.keras.preprocessing.text import Tokenizer\n",
        "from tensorflow.keras.layers import Embedding, LSTM, Dense\n",
        "from tensorflow.keras.models import Sequential\n",
        "from tensorflow.keras.utils import to_categorical\n",
        "from tensorflow.keras.optimizers import Adam\n",
        "import pickle\n",
        "import numpy as np\n",
        "import string"
      ]
    },
    {
      "cell_type": "markdown",
      "source": [
        "### **Data Preprocessing**"
      ],
      "metadata": {
        "id": "K6aAcdxnAKlh"
      }
    },
    {
      "cell_type": "markdown",
      "source": [
        "I read the text using the utf8 encoding and create the variable where I am going to store the lines of text\n"
      ],
      "metadata": {
        "id": "d9lsBLgsDuy0"
      }
    },
    {
      "cell_type": "code",
      "source": [
        "dfPath = '/content/drive/MyDrive/Personal projects/nextword-prediction/metamorphosis_clean.txt'\n",
        "dataText = open(dfPath, \"r\", encoding = \"utf8\")\n",
        "lines = []"
      ],
      "metadata": {
        "id": "fkUMEcHmroDv"
      },
      "execution_count": 3,
      "outputs": []
    },
    {
      "cell_type": "markdown",
      "source": [
        "I add each line of text to the list"
      ],
      "metadata": {
        "id": "e-QmKrp2IOJT"
      }
    },
    {
      "cell_type": "code",
      "source": [
        "for i in dataText:\n",
        "    lines.append(i)"
      ],
      "metadata": {
        "id": "iJpEBjSnsG7F"
      },
      "execution_count": 4,
      "outputs": []
    },
    {
      "cell_type": "markdown",
      "source": [
        "I [join](https://www.w3schools.com/python/ref_string_join.asp) the lines of text and remove related elements to the unnecessary lines of text\n",
        "\n",
        "\n"
      ],
      "metadata": {
        "id": "RAe_APKFEQW2"
      }
    },
    {
      "cell_type": "code",
      "source": [
        "data = \"\"\n",
        "\n",
        "for i in lines:\n",
        "    data = ' '. join(lines)\n",
        "    \n",
        "data = data.replace('\\n', '').replace('\\r', '').replace('\\ufeff', '')"
      ],
      "metadata": {
        "id": "Of3rjZU1sPd_"
      },
      "execution_count": 5,
      "outputs": []
    },
    {
      "cell_type": "markdown",
      "source": [
        "I make sure I don't have repeated words"
      ],
      "metadata": {
        "id": "eQfa3YEvH7rl"
      }
    },
    {
      "cell_type": "code",
      "source": [
        "no_rep = []\n",
        "\n",
        "for i in data.split():\n",
        "    if i not in no_rep:\n",
        "        no_rep.append(i)\n",
        "        \n",
        "data = ' '.join(no_rep)"
      ],
      "metadata": {
        "id": "cbSeQMYfsWjO"
      },
      "execution_count": 6,
      "outputs": []
    },
    {
      "cell_type": "markdown",
      "source": [
        "### **Tokenization**"
      ],
      "metadata": {
        "id": "Khz8U4_4XH6X"
      }
    },
    {
      "cell_type": "markdown",
      "source": [
        "I use [Tokenizer](https://keras.io/api/preprocessing/text/) to vectorize the text and then transform it into a sequence of numbers\n",
        "\n",
        "*Note: I save the tokenizer for the prediction script*"
      ],
      "metadata": {
        "id": "VNzkjiqAIVX5"
      }
    },
    {
      "cell_type": "code",
      "source": [
        "tokenizer = Tokenizer()\n",
        "tokenizer.fit_on_texts([data])\n",
        "\n",
        "pickle.dump(tokenizer, open('tokenizer1.pkl', 'wb'))\n",
        "\n",
        "sequence_data = tokenizer.texts_to_sequences([data])[0]"
      ],
      "metadata": {
        "id": "tKzoQubCsa4o"
      },
      "execution_count": 7,
      "outputs": []
    },
    {
      "cell_type": "markdown",
      "source": [
        "I find the size of the *word index* to later use it as a criterion to convert the output data into categorical variables"
      ],
      "metadata": {
        "id": "nHnpigmTLO_o"
      }
    },
    {
      "cell_type": "code",
      "source": [
        "v_size = len(tokenizer.word_index) + 1"
      ],
      "metadata": {
        "id": "ISEQQ4l5sdUW"
      },
      "execution_count": 8,
      "outputs": []
    },
    {
      "cell_type": "markdown",
      "source": [
        "I create the data sequences to later use them for the input and output data"
      ],
      "metadata": {
        "id": "mI4p4VZyLhqi"
      }
    },
    {
      "cell_type": "code",
      "source": [
        "sequences = []\n",
        "\n",
        "for i in range(1, len(sequence_data)):\n",
        "    words = sequence_data[i-1:i+1]\n",
        "    sequences.append(words)\n",
        "    \n",
        "sequences = np.array(sequences)"
      ],
      "metadata": {
        "id": "xFlaforEsfun"
      },
      "execution_count": 9,
      "outputs": []
    },
    {
      "cell_type": "markdown",
      "source": [
        "I create the input and output data of the model with the text sequences"
      ],
      "metadata": {
        "id": "G5bMzTy2MBiI"
      }
    },
    {
      "cell_type": "code",
      "source": [
        "X = []\n",
        "y = []\n",
        "\n",
        "for i in sequences:\n",
        "    X.append(i[0])\n",
        "    y.append(i[1])\n",
        "    \n",
        "X = np.array(X)\n",
        "y = np.array(y)"
      ],
      "metadata": {
        "id": "UdyIvHCksjBQ"
      },
      "execution_count": 10,
      "outputs": []
    },
    {
      "cell_type": "markdown",
      "source": [
        "I convert the output data to categorical variables"
      ],
      "metadata": {
        "id": "kwONiPYZNNpf"
      }
    },
    {
      "cell_type": "code",
      "source": [
        "y = to_categorical(y, num_classes=v_size)"
      ],
      "metadata": {
        "id": "t4DfrFKXsmpq"
      },
      "execution_count": 11,
      "outputs": []
    },
    {
      "cell_type": "markdown",
      "source": [
        "### **Model creation**"
      ],
      "metadata": {
        "id": "tlbU6tRFXSH5"
      }
    },
    {
      "cell_type": "code",
      "source": [
        "model = Sequential()\n",
        "model.add(Embedding(v_size, 10, input_length=1))\n",
        "model.add(LSTM(1000, return_sequences=True))\n",
        "model.add(LSTM(1000))\n",
        "model.add(Dense(1000, activation=\"relu\"))\n",
        "model.add(Dense(v_size, activation=\"softmax\"))"
      ],
      "metadata": {
        "id": "7fPE7DK-spZY"
      },
      "execution_count": 12,
      "outputs": []
    },
    {
      "cell_type": "code",
      "source": [
        "model.summary()"
      ],
      "metadata": {
        "colab": {
          "base_uri": "https://localhost:8080/"
        },
        "id": "rubyzyumssgk",
        "outputId": "006ad3da-e1e1-46b4-953c-857187ffe08c"
      },
      "execution_count": 13,
      "outputs": [
        {
          "output_type": "stream",
          "name": "stdout",
          "text": [
            "Model: \"sequential\"\n",
            "_________________________________________________________________\n",
            " Layer (type)                Output Shape              Param #   \n",
            "=================================================================\n",
            " embedding (Embedding)       (None, 1, 10)             26170     \n",
            "                                                                 \n",
            " lstm (LSTM)                 (None, 1, 1000)           4044000   \n",
            "                                                                 \n",
            " lstm_1 (LSTM)               (None, 1000)              8004000   \n",
            "                                                                 \n",
            " dense (Dense)               (None, 1000)              1001000   \n",
            "                                                                 \n",
            " dense_1 (Dense)             (None, 2617)              2619617   \n",
            "                                                                 \n",
            "=================================================================\n",
            "Total params: 15,694,787\n",
            "Trainable params: 15,694,787\n",
            "Non-trainable params: 0\n",
            "_________________________________________________________________\n"
          ]
        }
      ]
    },
    {
      "cell_type": "markdown",
      "source": [
        "I create the callbacks to save the model as there is an improvement in the performance of the loss function, in addition to reducing the learning factor of the optimizer."
      ],
      "metadata": {
        "id": "CXrXRcGIOfvS"
      }
    },
    {
      "cell_type": "code",
      "source": [
        "from tensorflow.keras.callbacks import ModelCheckpoint\n",
        "from tensorflow.keras.callbacks import ReduceLROnPlateau\n",
        "\n",
        "checkpoint = ModelCheckpoint(\"nxtword.h5\", monitor='loss', verbose=1,\n",
        "    save_best_only=True, mode='auto')\n",
        "\n",
        "reduce = ReduceLROnPlateau(monitor='loss', factor=0.2, patience=3, min_lr=0.0001, verbose = 1)"
      ],
      "metadata": {
        "id": "xmX6OW5Hsxbd"
      },
      "execution_count": 15,
      "outputs": []
    },
    {
      "cell_type": "code",
      "source": [
        "model.compile(\n",
        "    loss=\"categorical_crossentropy\", \n",
        "    optimizer=Adam(learning_rate=0.001),\n",
        "    metrics=['accuracy'])"
      ],
      "metadata": {
        "id": "nkW9uFgRs1Bp"
      },
      "execution_count": 16,
      "outputs": []
    },
    {
      "cell_type": "code",
      "source": [
        "history = model.fit(X, \n",
        "          y, \n",
        "          epochs=150, \n",
        "          batch_size=64, \n",
        "          callbacks=[checkpoint, reduce]\n",
        "          ).history"
      ],
      "metadata": {
        "id": "-8DTmseCs3oV",
        "colab": {
          "base_uri": "https://localhost:8080/"
        },
        "outputId": "4ec7d9b8-52a6-4fab-ad68-716fde537b13"
      },
      "execution_count": 19,
      "outputs": [
        {
          "output_type": "stream",
          "name": "stdout",
          "text": [
            "Epoch 1/150\n",
            "60/61 [============================>.] - ETA: 0s - loss: 0.6325 - accuracy: 0.5755\n",
            "Epoch 1: loss did not improve from 0.63145\n",
            "61/61 [==============================] - 1s 12ms/step - loss: 0.6330 - accuracy: 0.5737 - lr: 1.0000e-04\n",
            "Epoch 2/150\n",
            "60/61 [============================>.] - ETA: 0s - loss: 0.6290 - accuracy: 0.5763\n",
            "Epoch 2: loss did not improve from 0.63145\n",
            "61/61 [==============================] - 1s 11ms/step - loss: 0.6316 - accuracy: 0.5744 - lr: 1.0000e-04\n",
            "Epoch 3/150\n",
            "60/61 [============================>.] - ETA: 0s - loss: 0.6338 - accuracy: 0.5721\n",
            "Epoch 3: loss did not improve from 0.63145\n",
            "61/61 [==============================] - 1s 11ms/step - loss: 0.6318 - accuracy: 0.5732 - lr: 1.0000e-04\n",
            "Epoch 4/150\n",
            "61/61 [==============================] - ETA: 0s - loss: 0.6298 - accuracy: 0.5834\n",
            "Epoch 4: loss improved from 0.63145 to 0.62981, saving model to nxtword.h5\n",
            "61/61 [==============================] - 1s 19ms/step - loss: 0.6298 - accuracy: 0.5834 - lr: 1.0000e-04\n",
            "Epoch 5/150\n",
            "61/61 [==============================] - ETA: 0s - loss: 0.6292 - accuracy: 0.5852\n",
            "Epoch 5: loss improved from 0.62981 to 0.62924, saving model to nxtword.h5\n",
            "61/61 [==============================] - 1s 18ms/step - loss: 0.6292 - accuracy: 0.5852 - lr: 1.0000e-04\n",
            "Epoch 6/150\n",
            "60/61 [============================>.] - ETA: 0s - loss: 0.6290 - accuracy: 0.5729\n",
            "Epoch 6: loss did not improve from 0.62924\n",
            "61/61 [==============================] - 1s 11ms/step - loss: 0.6302 - accuracy: 0.5716 - lr: 1.0000e-04\n",
            "Epoch 7/150\n",
            "61/61 [==============================] - ETA: 0s - loss: 0.6309 - accuracy: 0.5724\n",
            "Epoch 7: loss did not improve from 0.62924\n",
            "61/61 [==============================] - 1s 11ms/step - loss: 0.6309 - accuracy: 0.5724 - lr: 1.0000e-04\n",
            "Epoch 8/150\n",
            "60/61 [============================>.] - ETA: 0s - loss: 0.6306 - accuracy: 0.5773\n",
            "Epoch 8: loss did not improve from 0.62924\n",
            "61/61 [==============================] - 1s 11ms/step - loss: 0.6303 - accuracy: 0.5770 - lr: 1.0000e-04\n",
            "Epoch 9/150\n",
            "61/61 [==============================] - ETA: 0s - loss: 0.6311 - accuracy: 0.5714\n",
            "Epoch 9: loss did not improve from 0.62924\n",
            "61/61 [==============================] - 1s 11ms/step - loss: 0.6311 - accuracy: 0.5714 - lr: 1.0000e-04\n",
            "Epoch 10/150\n",
            "60/61 [============================>.] - ETA: 0s - loss: 0.6279 - accuracy: 0.5753\n",
            "Epoch 10: loss did not improve from 0.62924\n",
            "61/61 [==============================] - 1s 11ms/step - loss: 0.6299 - accuracy: 0.5732 - lr: 1.0000e-04\n",
            "Epoch 11/150\n",
            "61/61 [==============================] - ETA: 0s - loss: 0.6286 - accuracy: 0.5742\n",
            "Epoch 11: loss improved from 0.62924 to 0.62862, saving model to nxtword.h5\n",
            "61/61 [==============================] - 1s 18ms/step - loss: 0.6286 - accuracy: 0.5742 - lr: 1.0000e-04\n",
            "Epoch 12/150\n",
            "61/61 [==============================] - ETA: 0s - loss: 0.6302 - accuracy: 0.5780\n",
            "Epoch 12: loss did not improve from 0.62862\n",
            "61/61 [==============================] - 1s 11ms/step - loss: 0.6302 - accuracy: 0.5780 - lr: 1.0000e-04\n",
            "Epoch 13/150\n",
            "61/61 [==============================] - ETA: 0s - loss: 0.6306 - accuracy: 0.5734\n",
            "Epoch 13: loss did not improve from 0.62862\n",
            "61/61 [==============================] - 1s 11ms/step - loss: 0.6306 - accuracy: 0.5734 - lr: 1.0000e-04\n",
            "Epoch 14/150\n",
            "60/61 [============================>.] - ETA: 0s - loss: 0.6312 - accuracy: 0.5799\n",
            "Epoch 14: loss did not improve from 0.62862\n",
            "61/61 [==============================] - 1s 11ms/step - loss: 0.6315 - accuracy: 0.5791 - lr: 1.0000e-04\n",
            "Epoch 15/150\n",
            "61/61 [==============================] - ETA: 0s - loss: 0.6285 - accuracy: 0.5739\n",
            "Epoch 15: loss improved from 0.62862 to 0.62846, saving model to nxtword.h5\n",
            "61/61 [==============================] - 1s 18ms/step - loss: 0.6285 - accuracy: 0.5739 - lr: 1.0000e-04\n",
            "Epoch 16/150\n",
            "59/61 [============================>.] - ETA: 0s - loss: 0.6295 - accuracy: 0.5757\n",
            "Epoch 16: loss did not improve from 0.62846\n",
            "61/61 [==============================] - 1s 12ms/step - loss: 0.6289 - accuracy: 0.5747 - lr: 1.0000e-04\n",
            "Epoch 17/150\n",
            "61/61 [==============================] - ETA: 0s - loss: 0.6290 - accuracy: 0.5744\n",
            "Epoch 17: loss did not improve from 0.62846\n",
            "61/61 [==============================] - 1s 11ms/step - loss: 0.6290 - accuracy: 0.5744 - lr: 1.0000e-04\n",
            "Epoch 18/150\n",
            "61/61 [==============================] - ETA: 0s - loss: 0.6287 - accuracy: 0.5775\n",
            "Epoch 18: loss did not improve from 0.62846\n",
            "61/61 [==============================] - 1s 11ms/step - loss: 0.6287 - accuracy: 0.5775 - lr: 1.0000e-04\n",
            "Epoch 19/150\n",
            "60/61 [============================>.] - ETA: 0s - loss: 0.6272 - accuracy: 0.5727\n",
            "Epoch 19: loss did not improve from 0.62846\n",
            "61/61 [==============================] - 1s 11ms/step - loss: 0.6293 - accuracy: 0.5716 - lr: 1.0000e-04\n",
            "Epoch 20/150\n",
            "61/61 [==============================] - ETA: 0s - loss: 0.6279 - accuracy: 0.5757\n",
            "Epoch 20: loss improved from 0.62846 to 0.62787, saving model to nxtword.h5\n",
            "61/61 [==============================] - 1s 18ms/step - loss: 0.6279 - accuracy: 0.5757 - lr: 1.0000e-04\n",
            "Epoch 21/150\n",
            "60/61 [============================>.] - ETA: 0s - loss: 0.6291 - accuracy: 0.5773\n",
            "Epoch 21: loss did not improve from 0.62787\n",
            "61/61 [==============================] - 1s 11ms/step - loss: 0.6281 - accuracy: 0.5780 - lr: 1.0000e-04\n",
            "Epoch 22/150\n",
            "61/61 [==============================] - ETA: 0s - loss: 0.6285 - accuracy: 0.5773\n",
            "Epoch 22: loss did not improve from 0.62787\n",
            "61/61 [==============================] - 1s 11ms/step - loss: 0.6285 - accuracy: 0.5773 - lr: 1.0000e-04\n",
            "Epoch 23/150\n",
            "61/61 [==============================] - ETA: 0s - loss: 0.6280 - accuracy: 0.5762\n",
            "Epoch 23: loss did not improve from 0.62787\n",
            "61/61 [==============================] - 1s 11ms/step - loss: 0.6280 - accuracy: 0.5762 - lr: 1.0000e-04\n",
            "Epoch 24/150\n",
            "61/61 [==============================] - ETA: 0s - loss: 0.6275 - accuracy: 0.5696\n",
            "Epoch 24: loss improved from 0.62787 to 0.62753, saving model to nxtword.h5\n",
            "61/61 [==============================] - 1s 18ms/step - loss: 0.6275 - accuracy: 0.5696 - lr: 1.0000e-04\n",
            "Epoch 25/150\n",
            "61/61 [==============================] - ETA: 0s - loss: 0.6290 - accuracy: 0.5708\n",
            "Epoch 25: loss did not improve from 0.62753\n",
            "61/61 [==============================] - 1s 11ms/step - loss: 0.6290 - accuracy: 0.5708 - lr: 1.0000e-04\n",
            "Epoch 26/150\n",
            "60/61 [============================>.] - ETA: 0s - loss: 0.6261 - accuracy: 0.5818\n",
            "Epoch 26: loss did not improve from 0.62753\n",
            "61/61 [==============================] - 1s 11ms/step - loss: 0.6280 - accuracy: 0.5798 - lr: 1.0000e-04\n",
            "Epoch 27/150\n",
            "60/61 [============================>.] - ETA: 0s - loss: 0.6282 - accuracy: 0.5789\n",
            "Epoch 27: loss did not improve from 0.62753\n",
            "61/61 [==============================] - 1s 11ms/step - loss: 0.6282 - accuracy: 0.5786 - lr: 1.0000e-04\n",
            "Epoch 28/150\n",
            "60/61 [============================>.] - ETA: 0s - loss: 0.6273 - accuracy: 0.5771\n",
            "Epoch 28: loss did not improve from 0.62753\n",
            "61/61 [==============================] - 1s 11ms/step - loss: 0.6292 - accuracy: 0.5752 - lr: 1.0000e-04\n",
            "Epoch 29/150\n",
            "61/61 [==============================] - ETA: 0s - loss: 0.6278 - accuracy: 0.5729\n",
            "Epoch 29: loss did not improve from 0.62753\n",
            "61/61 [==============================] - 1s 11ms/step - loss: 0.6278 - accuracy: 0.5729 - lr: 1.0000e-04\n",
            "Epoch 30/150\n",
            "61/61 [==============================] - ETA: 0s - loss: 0.6279 - accuracy: 0.5827\n",
            "Epoch 30: loss did not improve from 0.62753\n",
            "61/61 [==============================] - 1s 11ms/step - loss: 0.6279 - accuracy: 0.5827 - lr: 1.0000e-04\n",
            "Epoch 31/150\n",
            "60/61 [============================>.] - ETA: 0s - loss: 0.6271 - accuracy: 0.5760\n",
            "Epoch 31: loss did not improve from 0.62753\n",
            "61/61 [==============================] - 1s 11ms/step - loss: 0.6276 - accuracy: 0.5752 - lr: 1.0000e-04\n",
            "Epoch 32/150\n",
            "60/61 [============================>.] - ETA: 0s - loss: 0.6265 - accuracy: 0.5763\n",
            "Epoch 32: loss did not improve from 0.62753\n",
            "61/61 [==============================] - 1s 11ms/step - loss: 0.6277 - accuracy: 0.5750 - lr: 1.0000e-04\n",
            "Epoch 33/150\n",
            "61/61 [==============================] - ETA: 0s - loss: 0.6277 - accuracy: 0.5744\n",
            "Epoch 33: loss did not improve from 0.62753\n",
            "61/61 [==============================] - 1s 11ms/step - loss: 0.6277 - accuracy: 0.5744 - lr: 1.0000e-04\n",
            "Epoch 34/150\n",
            "59/61 [============================>.] - ETA: 0s - loss: 0.6260 - accuracy: 0.5776\n",
            "Epoch 34: loss improved from 0.62753 to 0.62616, saving model to nxtword.h5\n",
            "61/61 [==============================] - 1s 18ms/step - loss: 0.6262 - accuracy: 0.5757 - lr: 1.0000e-04\n",
            "Epoch 35/150\n",
            "60/61 [============================>.] - ETA: 0s - loss: 0.6265 - accuracy: 0.5797\n",
            "Epoch 35: loss did not improve from 0.62616\n",
            "61/61 [==============================] - 1s 11ms/step - loss: 0.6267 - accuracy: 0.5793 - lr: 1.0000e-04\n",
            "Epoch 36/150\n",
            "61/61 [==============================] - ETA: 0s - loss: 0.6273 - accuracy: 0.5734\n",
            "Epoch 36: loss did not improve from 0.62616\n",
            "61/61 [==============================] - 1s 11ms/step - loss: 0.6273 - accuracy: 0.5734 - lr: 1.0000e-04\n",
            "Epoch 37/150\n",
            "61/61 [==============================] - ETA: 0s - loss: 0.6266 - accuracy: 0.5762\n",
            "Epoch 37: loss did not improve from 0.62616\n",
            "61/61 [==============================] - 1s 11ms/step - loss: 0.6266 - accuracy: 0.5762 - lr: 1.0000e-04\n",
            "Epoch 38/150\n",
            "61/61 [==============================] - ETA: 0s - loss: 0.6275 - accuracy: 0.5788\n",
            "Epoch 38: loss did not improve from 0.62616\n",
            "61/61 [==============================] - 1s 11ms/step - loss: 0.6275 - accuracy: 0.5788 - lr: 1.0000e-04\n",
            "Epoch 39/150\n",
            "60/61 [============================>.] - ETA: 0s - loss: 0.6258 - accuracy: 0.5797\n",
            "Epoch 39: loss did not improve from 0.62616\n",
            "61/61 [==============================] - 1s 11ms/step - loss: 0.6271 - accuracy: 0.5791 - lr: 1.0000e-04\n",
            "Epoch 40/150\n",
            "61/61 [==============================] - ETA: 0s - loss: 0.6264 - accuracy: 0.5798\n",
            "Epoch 40: loss did not improve from 0.62616\n",
            "61/61 [==============================] - 1s 11ms/step - loss: 0.6264 - accuracy: 0.5798 - lr: 1.0000e-04\n",
            "Epoch 41/150\n",
            "60/61 [============================>.] - ETA: 0s - loss: 0.6269 - accuracy: 0.5760\n",
            "Epoch 41: loss improved from 0.62616 to 0.62596, saving model to nxtword.h5\n",
            "61/61 [==============================] - 1s 18ms/step - loss: 0.6260 - accuracy: 0.5762 - lr: 1.0000e-04\n",
            "Epoch 42/150\n",
            "60/61 [============================>.] - ETA: 0s - loss: 0.6263 - accuracy: 0.5727\n",
            "Epoch 42: loss did not improve from 0.62596\n",
            "61/61 [==============================] - 1s 11ms/step - loss: 0.6270 - accuracy: 0.5721 - lr: 1.0000e-04\n",
            "Epoch 43/150\n",
            "61/61 [==============================] - ETA: 0s - loss: 0.6260 - accuracy: 0.5729\n",
            "Epoch 43: loss did not improve from 0.62596\n",
            "61/61 [==============================] - 1s 11ms/step - loss: 0.6260 - accuracy: 0.5729 - lr: 1.0000e-04\n",
            "Epoch 44/150\n",
            "61/61 [==============================] - ETA: 0s - loss: 0.6266 - accuracy: 0.5762\n",
            "Epoch 44: loss did not improve from 0.62596\n",
            "61/61 [==============================] - 1s 11ms/step - loss: 0.6266 - accuracy: 0.5762 - lr: 1.0000e-04\n",
            "Epoch 45/150\n",
            "60/61 [============================>.] - ETA: 0s - loss: 0.6233 - accuracy: 0.5792\n",
            "Epoch 45: loss did not improve from 0.62596\n",
            "61/61 [==============================] - 1s 11ms/step - loss: 0.6268 - accuracy: 0.5760 - lr: 1.0000e-04\n",
            "Epoch 46/150\n",
            "61/61 [==============================] - ETA: 0s - loss: 0.6264 - accuracy: 0.5801\n",
            "Epoch 46: loss did not improve from 0.62596\n",
            "61/61 [==============================] - 1s 11ms/step - loss: 0.6264 - accuracy: 0.5801 - lr: 1.0000e-04\n",
            "Epoch 47/150\n",
            "61/61 [==============================] - ETA: 0s - loss: 0.6265 - accuracy: 0.5719\n",
            "Epoch 47: loss did not improve from 0.62596\n",
            "61/61 [==============================] - 1s 11ms/step - loss: 0.6265 - accuracy: 0.5719 - lr: 1.0000e-04\n",
            "Epoch 48/150\n",
            "61/61 [==============================] - ETA: 0s - loss: 0.6246 - accuracy: 0.5829\n",
            "Epoch 48: loss improved from 0.62596 to 0.62460, saving model to nxtword.h5\n",
            "61/61 [==============================] - 1s 18ms/step - loss: 0.6246 - accuracy: 0.5829 - lr: 1.0000e-04\n",
            "Epoch 49/150\n",
            "61/61 [==============================] - ETA: 0s - loss: 0.6244 - accuracy: 0.5834\n",
            "Epoch 49: loss improved from 0.62460 to 0.62441, saving model to nxtword.h5\n",
            "61/61 [==============================] - 1s 18ms/step - loss: 0.6244 - accuracy: 0.5834 - lr: 1.0000e-04\n",
            "Epoch 50/150\n",
            "61/61 [==============================] - ETA: 0s - loss: 0.6259 - accuracy: 0.5801\n",
            "Epoch 50: loss did not improve from 0.62441\n",
            "61/61 [==============================] - 1s 11ms/step - loss: 0.6259 - accuracy: 0.5801 - lr: 1.0000e-04\n",
            "Epoch 51/150\n",
            "61/61 [==============================] - ETA: 0s - loss: 0.6248 - accuracy: 0.5816\n",
            "Epoch 51: loss did not improve from 0.62441\n",
            "61/61 [==============================] - 1s 11ms/step - loss: 0.6248 - accuracy: 0.5816 - lr: 1.0000e-04\n",
            "Epoch 52/150\n",
            "60/61 [============================>.] - ETA: 0s - loss: 0.6267 - accuracy: 0.5789\n",
            "Epoch 52: loss did not improve from 0.62441\n",
            "61/61 [==============================] - 1s 11ms/step - loss: 0.6258 - accuracy: 0.5791 - lr: 1.0000e-04\n",
            "Epoch 53/150\n",
            "60/61 [============================>.] - ETA: 0s - loss: 0.6244 - accuracy: 0.5771\n",
            "Epoch 53: loss did not improve from 0.62441\n",
            "61/61 [==============================] - 1s 11ms/step - loss: 0.6251 - accuracy: 0.5755 - lr: 1.0000e-04\n",
            "Epoch 54/150\n",
            "60/61 [============================>.] - ETA: 0s - loss: 0.6240 - accuracy: 0.5740\n",
            "Epoch 54: loss did not improve from 0.62441\n",
            "61/61 [==============================] - 1s 11ms/step - loss: 0.6247 - accuracy: 0.5724 - lr: 1.0000e-04\n",
            "Epoch 55/150\n",
            "60/61 [============================>.] - ETA: 0s - loss: 0.6245 - accuracy: 0.5708\n",
            "Epoch 55: loss did not improve from 0.62441\n",
            "61/61 [==============================] - 1s 11ms/step - loss: 0.6261 - accuracy: 0.5698 - lr: 1.0000e-04\n",
            "Epoch 56/150\n",
            "59/61 [============================>.] - ETA: 0s - loss: 0.6242 - accuracy: 0.5810\n",
            "Epoch 56: loss did not improve from 0.62441\n",
            "61/61 [==============================] - 1s 11ms/step - loss: 0.6249 - accuracy: 0.5788 - lr: 1.0000e-04\n",
            "Epoch 57/150\n",
            "61/61 [==============================] - ETA: 0s - loss: 0.6245 - accuracy: 0.5729\n",
            "Epoch 57: loss did not improve from 0.62441\n",
            "61/61 [==============================] - 1s 11ms/step - loss: 0.6245 - accuracy: 0.5729 - lr: 1.0000e-04\n",
            "Epoch 58/150\n",
            "60/61 [============================>.] - ETA: 0s - loss: 0.6237 - accuracy: 0.5781\n",
            "Epoch 58: loss improved from 0.62441 to 0.62371, saving model to nxtword.h5\n",
            "61/61 [==============================] - 1s 19ms/step - loss: 0.6237 - accuracy: 0.5773 - lr: 1.0000e-04\n",
            "Epoch 59/150\n",
            "61/61 [==============================] - ETA: 0s - loss: 0.6239 - accuracy: 0.5783\n",
            "Epoch 59: loss did not improve from 0.62371\n",
            "61/61 [==============================] - 1s 11ms/step - loss: 0.6239 - accuracy: 0.5783 - lr: 1.0000e-04\n",
            "Epoch 60/150\n",
            "61/61 [==============================] - ETA: 0s - loss: 0.6245 - accuracy: 0.5721\n",
            "Epoch 60: loss did not improve from 0.62371\n",
            "61/61 [==============================] - 1s 11ms/step - loss: 0.6245 - accuracy: 0.5721 - lr: 1.0000e-04\n",
            "Epoch 61/150\n",
            "60/61 [============================>.] - ETA: 0s - loss: 0.6228 - accuracy: 0.5727\n",
            "Epoch 61: loss improved from 0.62371 to 0.62361, saving model to nxtword.h5\n",
            "61/61 [==============================] - 1s 18ms/step - loss: 0.6236 - accuracy: 0.5724 - lr: 1.0000e-04\n",
            "Epoch 62/150\n",
            "60/61 [============================>.] - ETA: 0s - loss: 0.6230 - accuracy: 0.5792\n",
            "Epoch 62: loss did not improve from 0.62361\n",
            "61/61 [==============================] - 1s 12ms/step - loss: 0.6243 - accuracy: 0.5783 - lr: 1.0000e-04\n",
            "Epoch 63/150\n",
            "61/61 [==============================] - ETA: 0s - loss: 0.6234 - accuracy: 0.5788\n",
            "Epoch 63: loss improved from 0.62361 to 0.62335, saving model to nxtword.h5\n",
            "61/61 [==============================] - 1s 18ms/step - loss: 0.6234 - accuracy: 0.5788 - lr: 1.0000e-04\n",
            "Epoch 64/150\n",
            "61/61 [==============================] - ETA: 0s - loss: 0.6244 - accuracy: 0.5788\n",
            "Epoch 64: loss did not improve from 0.62335\n",
            "61/61 [==============================] - 1s 12ms/step - loss: 0.6244 - accuracy: 0.5788 - lr: 1.0000e-04\n",
            "Epoch 65/150\n",
            "59/61 [============================>.] - ETA: 0s - loss: 0.6227 - accuracy: 0.5863\n",
            "Epoch 65: loss did not improve from 0.62335\n",
            "61/61 [==============================] - 1s 12ms/step - loss: 0.6238 - accuracy: 0.5837 - lr: 1.0000e-04\n",
            "Epoch 66/150\n",
            "60/61 [============================>.] - ETA: 0s - loss: 0.6242 - accuracy: 0.5773\n",
            "Epoch 66: loss did not improve from 0.62335\n",
            "61/61 [==============================] - 1s 12ms/step - loss: 0.6241 - accuracy: 0.5762 - lr: 1.0000e-04\n",
            "Epoch 67/150\n",
            "60/61 [============================>.] - ETA: 0s - loss: 0.6242 - accuracy: 0.5724\n",
            "Epoch 67: loss did not improve from 0.62335\n",
            "61/61 [==============================] - 1s 12ms/step - loss: 0.6238 - accuracy: 0.5726 - lr: 1.0000e-04\n",
            "Epoch 68/150\n",
            "61/61 [==============================] - ETA: 0s - loss: 0.6236 - accuracy: 0.5744\n",
            "Epoch 68: loss did not improve from 0.62335\n",
            "61/61 [==============================] - 1s 11ms/step - loss: 0.6236 - accuracy: 0.5744 - lr: 1.0000e-04\n",
            "Epoch 69/150\n",
            "59/61 [============================>.] - ETA: 0s - loss: 0.6252 - accuracy: 0.5718\n",
            "Epoch 69: loss did not improve from 0.62335\n",
            "61/61 [==============================] - 1s 12ms/step - loss: 0.6236 - accuracy: 0.5721 - lr: 1.0000e-04\n",
            "Epoch 70/150\n",
            "60/61 [============================>.] - ETA: 0s - loss: 0.6232 - accuracy: 0.5729\n",
            "Epoch 70: loss improved from 0.62335 to 0.62253, saving model to nxtword.h5\n",
            "61/61 [==============================] - 1s 18ms/step - loss: 0.6225 - accuracy: 0.5729 - lr: 1.0000e-04\n",
            "Epoch 71/150\n",
            "60/61 [============================>.] - ETA: 0s - loss: 0.6216 - accuracy: 0.5773\n",
            "Epoch 71: loss did not improve from 0.62253\n",
            "61/61 [==============================] - 1s 11ms/step - loss: 0.6230 - accuracy: 0.5768 - lr: 1.0000e-04\n",
            "Epoch 72/150\n",
            "61/61 [==============================] - ETA: 0s - loss: 0.6237 - accuracy: 0.5765\n",
            "Epoch 72: loss did not improve from 0.62253\n",
            "61/61 [==============================] - 1s 11ms/step - loss: 0.6237 - accuracy: 0.5765 - lr: 1.0000e-04\n",
            "Epoch 73/150\n",
            "59/61 [============================>.] - ETA: 0s - loss: 0.6210 - accuracy: 0.5818\n",
            "Epoch 73: loss did not improve from 0.62253\n",
            "61/61 [==============================] - 1s 11ms/step - loss: 0.6226 - accuracy: 0.5809 - lr: 1.0000e-04\n",
            "Epoch 74/150\n",
            "59/61 [============================>.] - ETA: 0s - loss: 0.6220 - accuracy: 0.5781\n",
            "Epoch 74: loss did not improve from 0.62253\n",
            "61/61 [==============================] - 1s 11ms/step - loss: 0.6237 - accuracy: 0.5750 - lr: 1.0000e-04\n",
            "Epoch 75/150\n",
            "61/61 [==============================] - ETA: 0s - loss: 0.6240 - accuracy: 0.5773\n",
            "Epoch 75: loss did not improve from 0.62253\n",
            "61/61 [==============================] - 1s 11ms/step - loss: 0.6240 - accuracy: 0.5773 - lr: 1.0000e-04\n",
            "Epoch 76/150\n",
            "61/61 [==============================] - ETA: 0s - loss: 0.6240 - accuracy: 0.5719\n",
            "Epoch 76: loss did not improve from 0.62253\n",
            "61/61 [==============================] - 1s 11ms/step - loss: 0.6240 - accuracy: 0.5719 - lr: 1.0000e-04\n",
            "Epoch 77/150\n",
            "60/61 [============================>.] - ETA: 0s - loss: 0.6245 - accuracy: 0.5766\n",
            "Epoch 77: loss did not improve from 0.62253\n",
            "61/61 [==============================] - 1s 11ms/step - loss: 0.6232 - accuracy: 0.5768 - lr: 1.0000e-04\n",
            "Epoch 78/150\n",
            "60/61 [============================>.] - ETA: 0s - loss: 0.6213 - accuracy: 0.5779\n",
            "Epoch 78: loss improved from 0.62253 to 0.62246, saving model to nxtword.h5\n",
            "61/61 [==============================] - 1s 19ms/step - loss: 0.6225 - accuracy: 0.5765 - lr: 1.0000e-04\n",
            "Epoch 79/150\n",
            "60/61 [============================>.] - ETA: 0s - loss: 0.6229 - accuracy: 0.5737\n",
            "Epoch 79: loss did not improve from 0.62246\n",
            "61/61 [==============================] - 1s 12ms/step - loss: 0.6233 - accuracy: 0.5726 - lr: 1.0000e-04\n",
            "Epoch 80/150\n",
            "60/61 [============================>.] - ETA: 0s - loss: 0.6227 - accuracy: 0.5781\n",
            "Epoch 80: loss improved from 0.62246 to 0.62200, saving model to nxtword.h5\n",
            "61/61 [==============================] - 1s 19ms/step - loss: 0.6220 - accuracy: 0.5778 - lr: 1.0000e-04\n",
            "Epoch 81/150\n",
            "61/61 [==============================] - ETA: 0s - loss: 0.6220 - accuracy: 0.5786\n",
            "Epoch 81: loss improved from 0.62200 to 0.62198, saving model to nxtword.h5\n",
            "61/61 [==============================] - 1s 19ms/step - loss: 0.6220 - accuracy: 0.5786 - lr: 1.0000e-04\n",
            "Epoch 82/150\n",
            "58/61 [===========================>..] - ETA: 0s - loss: 0.6192 - accuracy: 0.5773\n",
            "Epoch 82: loss did not improve from 0.62198\n",
            "61/61 [==============================] - 1s 12ms/step - loss: 0.6227 - accuracy: 0.5726 - lr: 1.0000e-04\n",
            "Epoch 83/150\n",
            "61/61 [==============================] - ETA: 0s - loss: 0.6231 - accuracy: 0.5768\n",
            "Epoch 83: loss did not improve from 0.62198\n",
            "61/61 [==============================] - 1s 12ms/step - loss: 0.6231 - accuracy: 0.5768 - lr: 1.0000e-04\n",
            "Epoch 84/150\n",
            "60/61 [============================>.] - ETA: 0s - loss: 0.6224 - accuracy: 0.5703\n",
            "Epoch 84: loss did not improve from 0.62198\n",
            "61/61 [==============================] - 1s 12ms/step - loss: 0.6224 - accuracy: 0.5701 - lr: 1.0000e-04\n",
            "Epoch 85/150\n",
            "60/61 [============================>.] - ETA: 0s - loss: 0.6199 - accuracy: 0.5708\n",
            "Epoch 85: loss did not improve from 0.62198\n",
            "61/61 [==============================] - 1s 11ms/step - loss: 0.6221 - accuracy: 0.5698 - lr: 1.0000e-04\n",
            "Epoch 86/150\n",
            "61/61 [==============================] - ETA: 0s - loss: 0.6228 - accuracy: 0.5750\n",
            "Epoch 86: loss did not improve from 0.62198\n",
            "61/61 [==============================] - 1s 11ms/step - loss: 0.6228 - accuracy: 0.5750 - lr: 1.0000e-04\n",
            "Epoch 87/150\n",
            "60/61 [============================>.] - ETA: 0s - loss: 0.6219 - accuracy: 0.5758\n",
            "Epoch 87: loss improved from 0.62198 to 0.62157, saving model to nxtword.h5\n",
            "61/61 [==============================] - 1s 21ms/step - loss: 0.6216 - accuracy: 0.5755 - lr: 1.0000e-04\n",
            "Epoch 88/150\n",
            "61/61 [==============================] - ETA: 0s - loss: 0.6216 - accuracy: 0.5729\n",
            "Epoch 88: loss did not improve from 0.62157\n",
            "61/61 [==============================] - 1s 11ms/step - loss: 0.6216 - accuracy: 0.5729 - lr: 1.0000e-04\n",
            "Epoch 89/150\n",
            "60/61 [============================>.] - ETA: 0s - loss: 0.6206 - accuracy: 0.5768\n",
            "Epoch 89: loss did not improve from 0.62157\n",
            "61/61 [==============================] - 1s 11ms/step - loss: 0.6218 - accuracy: 0.5760 - lr: 1.0000e-04\n",
            "Epoch 90/150\n",
            "60/61 [============================>.] - ETA: 0s - loss: 0.6210 - accuracy: 0.5693\n",
            "Epoch 90: loss did not improve from 0.62157\n",
            "61/61 [==============================] - 1s 12ms/step - loss: 0.6220 - accuracy: 0.5683 - lr: 1.0000e-04\n",
            "Epoch 91/150\n",
            "61/61 [==============================] - ETA: 0s - loss: 0.6227 - accuracy: 0.5778\n",
            "Epoch 91: loss did not improve from 0.62157\n",
            "61/61 [==============================] - 1s 11ms/step - loss: 0.6227 - accuracy: 0.5778 - lr: 1.0000e-04\n",
            "Epoch 92/150\n",
            "61/61 [==============================] - ETA: 0s - loss: 0.6233 - accuracy: 0.5752\n",
            "Epoch 92: loss did not improve from 0.62157\n",
            "61/61 [==============================] - 1s 11ms/step - loss: 0.6233 - accuracy: 0.5752 - lr: 1.0000e-04\n",
            "Epoch 93/150\n",
            "60/61 [============================>.] - ETA: 0s - loss: 0.6202 - accuracy: 0.5750\n",
            "Epoch 93: loss did not improve from 0.62157\n",
            "61/61 [==============================] - 1s 12ms/step - loss: 0.6220 - accuracy: 0.5742 - lr: 1.0000e-04\n",
            "Epoch 94/150\n",
            "61/61 [==============================] - ETA: 0s - loss: 0.6216 - accuracy: 0.5824\n",
            "Epoch 94: loss improved from 0.62157 to 0.62157, saving model to nxtword.h5\n",
            "61/61 [==============================] - 1s 20ms/step - loss: 0.6216 - accuracy: 0.5824 - lr: 1.0000e-04\n",
            "Epoch 95/150\n",
            "59/61 [============================>.] - ETA: 0s - loss: 0.6184 - accuracy: 0.5829\n",
            "Epoch 95: loss improved from 0.62157 to 0.62066, saving model to nxtword.h5\n",
            "61/61 [==============================] - 1s 19ms/step - loss: 0.6207 - accuracy: 0.5796 - lr: 1.0000e-04\n",
            "Epoch 96/150\n",
            "61/61 [==============================] - ETA: 0s - loss: 0.6205 - accuracy: 0.5737\n",
            "Epoch 96: loss improved from 0.62066 to 0.62046, saving model to nxtword.h5\n",
            "61/61 [==============================] - 1s 19ms/step - loss: 0.6205 - accuracy: 0.5737 - lr: 1.0000e-04\n",
            "Epoch 97/150\n",
            "61/61 [==============================] - ETA: 0s - loss: 0.6217 - accuracy: 0.5680\n",
            "Epoch 97: loss did not improve from 0.62046\n",
            "61/61 [==============================] - 1s 12ms/step - loss: 0.6217 - accuracy: 0.5680 - lr: 1.0000e-04\n",
            "Epoch 98/150\n",
            "59/61 [============================>.] - ETA: 0s - loss: 0.6179 - accuracy: 0.5797\n",
            "Epoch 98: loss did not improve from 0.62046\n",
            "61/61 [==============================] - 1s 12ms/step - loss: 0.6210 - accuracy: 0.5762 - lr: 1.0000e-04\n",
            "Epoch 99/150\n",
            "61/61 [==============================] - ETA: 0s - loss: 0.6208 - accuracy: 0.5760\n",
            "Epoch 99: loss did not improve from 0.62046\n",
            "61/61 [==============================] - 1s 11ms/step - loss: 0.6208 - accuracy: 0.5760 - lr: 1.0000e-04\n",
            "Epoch 100/150\n",
            "61/61 [==============================] - ETA: 0s - loss: 0.6207 - accuracy: 0.5757\n",
            "Epoch 100: loss did not improve from 0.62046\n",
            "61/61 [==============================] - 1s 11ms/step - loss: 0.6207 - accuracy: 0.5757 - lr: 1.0000e-04\n",
            "Epoch 101/150\n",
            "60/61 [============================>.] - ETA: 0s - loss: 0.6195 - accuracy: 0.5714\n",
            "Epoch 101: loss improved from 0.62046 to 0.61895, saving model to nxtword.h5\n",
            "61/61 [==============================] - 1s 19ms/step - loss: 0.6189 - accuracy: 0.5714 - lr: 1.0000e-04\n",
            "Epoch 102/150\n",
            "60/61 [============================>.] - ETA: 0s - loss: 0.6191 - accuracy: 0.5802\n",
            "Epoch 102: loss did not improve from 0.61895\n",
            "61/61 [==============================] - 1s 12ms/step - loss: 0.6206 - accuracy: 0.5791 - lr: 1.0000e-04\n",
            "Epoch 103/150\n",
            "60/61 [============================>.] - ETA: 0s - loss: 0.6182 - accuracy: 0.5750\n",
            "Epoch 103: loss did not improve from 0.61895\n",
            "61/61 [==============================] - 1s 12ms/step - loss: 0.6200 - accuracy: 0.5744 - lr: 1.0000e-04\n",
            "Epoch 104/150\n",
            "58/61 [===========================>..] - ETA: 0s - loss: 0.6171 - accuracy: 0.5789\n",
            "Epoch 104: loss did not improve from 0.61895\n",
            "61/61 [==============================] - 1s 13ms/step - loss: 0.6200 - accuracy: 0.5757 - lr: 1.0000e-04\n",
            "Epoch 105/150\n",
            "60/61 [============================>.] - ETA: 0s - loss: 0.6183 - accuracy: 0.5674\n",
            "Epoch 105: loss did not improve from 0.61895\n",
            "61/61 [==============================] - 1s 14ms/step - loss: 0.6206 - accuracy: 0.5657 - lr: 1.0000e-04\n",
            "Epoch 106/150\n",
            "57/61 [===========================>..] - ETA: 0s - loss: 0.6158 - accuracy: 0.5806\n",
            "Epoch 106: loss did not improve from 0.61895\n",
            "61/61 [==============================] - 1s 13ms/step - loss: 0.6202 - accuracy: 0.5755 - lr: 1.0000e-04\n",
            "Epoch 107/150\n",
            "59/61 [============================>.] - ETA: 0s - loss: 0.6179 - accuracy: 0.5771\n",
            "Epoch 107: loss did not improve from 0.61895\n",
            "61/61 [==============================] - 1s 14ms/step - loss: 0.6200 - accuracy: 0.5747 - lr: 1.0000e-04\n",
            "Epoch 108/150\n",
            "61/61 [==============================] - ETA: 0s - loss: 0.6197 - accuracy: 0.5775\n",
            "Epoch 108: loss did not improve from 0.61895\n",
            "61/61 [==============================] - 1s 13ms/step - loss: 0.6197 - accuracy: 0.5775 - lr: 1.0000e-04\n",
            "Epoch 109/150\n",
            "59/61 [============================>.] - ETA: 0s - loss: 0.6157 - accuracy: 0.5802\n",
            "Epoch 109: loss did not improve from 0.61895\n",
            "61/61 [==============================] - 1s 12ms/step - loss: 0.6197 - accuracy: 0.5752 - lr: 1.0000e-04\n",
            "Epoch 110/150\n",
            "60/61 [============================>.] - ETA: 0s - loss: 0.6177 - accuracy: 0.5802\n",
            "Epoch 110: loss did not improve from 0.61895\n",
            "61/61 [==============================] - 1s 12ms/step - loss: 0.6200 - accuracy: 0.5778 - lr: 1.0000e-04\n",
            "Epoch 111/150\n",
            "60/61 [============================>.] - ETA: 0s - loss: 0.6217 - accuracy: 0.5729\n",
            "Epoch 111: loss did not improve from 0.61895\n",
            "61/61 [==============================] - 1s 11ms/step - loss: 0.6198 - accuracy: 0.5737 - lr: 1.0000e-04\n",
            "Epoch 112/150\n",
            "61/61 [==============================] - ETA: 0s - loss: 0.6195 - accuracy: 0.5773\n",
            "Epoch 112: loss did not improve from 0.61895\n",
            "61/61 [==============================] - 1s 11ms/step - loss: 0.6195 - accuracy: 0.5773 - lr: 1.0000e-04\n",
            "Epoch 113/150\n",
            "59/61 [============================>.] - ETA: 0s - loss: 0.6193 - accuracy: 0.5787\n",
            "Epoch 113: loss did not improve from 0.61895\n",
            "61/61 [==============================] - 1s 12ms/step - loss: 0.6204 - accuracy: 0.5765 - lr: 1.0000e-04\n",
            "Epoch 114/150\n",
            "60/61 [============================>.] - ETA: 0s - loss: 0.6204 - accuracy: 0.5742\n",
            "Epoch 114: loss did not improve from 0.61895\n",
            "61/61 [==============================] - 1s 12ms/step - loss: 0.6209 - accuracy: 0.5729 - lr: 1.0000e-04\n",
            "Epoch 115/150\n",
            "60/61 [============================>.] - ETA: 0s - loss: 0.6187 - accuracy: 0.5721\n",
            "Epoch 115: loss did not improve from 0.61895\n",
            "61/61 [==============================] - 1s 12ms/step - loss: 0.6203 - accuracy: 0.5703 - lr: 1.0000e-04\n",
            "Epoch 116/150\n",
            "58/61 [===========================>..] - ETA: 0s - loss: 0.6182 - accuracy: 0.5757\n",
            "Epoch 116: loss did not improve from 0.61895\n",
            "61/61 [==============================] - 1s 12ms/step - loss: 0.6198 - accuracy: 0.5721 - lr: 1.0000e-04\n",
            "Epoch 117/150\n",
            "61/61 [==============================] - ETA: 0s - loss: 0.6203 - accuracy: 0.5732\n",
            "Epoch 117: loss did not improve from 0.61895\n",
            "61/61 [==============================] - 1s 11ms/step - loss: 0.6203 - accuracy: 0.5732 - lr: 1.0000e-04\n",
            "Epoch 118/150\n",
            "60/61 [============================>.] - ETA: 0s - loss: 0.6193 - accuracy: 0.5779\n",
            "Epoch 118: loss did not improve from 0.61895\n",
            "61/61 [==============================] - 1s 12ms/step - loss: 0.6196 - accuracy: 0.5775 - lr: 1.0000e-04\n",
            "Epoch 119/150\n",
            "61/61 [==============================] - ETA: 0s - loss: 0.6203 - accuracy: 0.5744\n",
            "Epoch 119: loss did not improve from 0.61895\n",
            "61/61 [==============================] - 1s 11ms/step - loss: 0.6203 - accuracy: 0.5744 - lr: 1.0000e-04\n",
            "Epoch 120/150\n",
            "60/61 [============================>.] - ETA: 0s - loss: 0.6200 - accuracy: 0.5693\n",
            "Epoch 120: loss did not improve from 0.61895\n",
            "61/61 [==============================] - 1s 11ms/step - loss: 0.6190 - accuracy: 0.5693 - lr: 1.0000e-04\n",
            "Epoch 121/150\n",
            "59/61 [============================>.] - ETA: 0s - loss: 0.6151 - accuracy: 0.5784\n",
            "Epoch 121: loss improved from 0.61895 to 0.61892, saving model to nxtword.h5\n",
            "61/61 [==============================] - 1s 19ms/step - loss: 0.6189 - accuracy: 0.5750 - lr: 1.0000e-04\n",
            "Epoch 122/150\n",
            "60/61 [============================>.] - ETA: 0s - loss: 0.6192 - accuracy: 0.5740\n",
            "Epoch 122: loss did not improve from 0.61892\n",
            "61/61 [==============================] - 1s 12ms/step - loss: 0.6190 - accuracy: 0.5742 - lr: 1.0000e-04\n",
            "Epoch 123/150\n",
            "60/61 [============================>.] - ETA: 0s - loss: 0.6202 - accuracy: 0.5794\n",
            "Epoch 123: loss did not improve from 0.61892\n",
            "61/61 [==============================] - 1s 12ms/step - loss: 0.6204 - accuracy: 0.5793 - lr: 1.0000e-04\n",
            "Epoch 124/150\n",
            "61/61 [==============================] - ETA: 0s - loss: 0.6205 - accuracy: 0.5701\n",
            "Epoch 124: loss did not improve from 0.61892\n",
            "61/61 [==============================] - 1s 11ms/step - loss: 0.6205 - accuracy: 0.5701 - lr: 1.0000e-04\n",
            "Epoch 125/150\n",
            "60/61 [============================>.] - ETA: 0s - loss: 0.6195 - accuracy: 0.5742\n",
            "Epoch 125: loss did not improve from 0.61892\n",
            "61/61 [==============================] - 1s 12ms/step - loss: 0.6192 - accuracy: 0.5747 - lr: 1.0000e-04\n",
            "Epoch 126/150\n",
            "59/61 [============================>.] - ETA: 0s - loss: 0.6156 - accuracy: 0.5858\n",
            "Epoch 126: loss did not improve from 0.61892\n",
            "61/61 [==============================] - 1s 11ms/step - loss: 0.6194 - accuracy: 0.5840 - lr: 1.0000e-04\n",
            "Epoch 127/150\n",
            "61/61 [==============================] - ETA: 0s - loss: 0.6186 - accuracy: 0.5755\n",
            "Epoch 127: loss improved from 0.61892 to 0.61859, saving model to nxtword.h5\n",
            "61/61 [==============================] - 1s 19ms/step - loss: 0.6186 - accuracy: 0.5755 - lr: 1.0000e-04\n",
            "Epoch 128/150\n",
            "61/61 [==============================] - ETA: 0s - loss: 0.6176 - accuracy: 0.5752\n",
            "Epoch 128: loss improved from 0.61859 to 0.61756, saving model to nxtword.h5\n",
            "61/61 [==============================] - 1s 19ms/step - loss: 0.6176 - accuracy: 0.5752 - lr: 1.0000e-04\n",
            "Epoch 129/150\n",
            "61/61 [==============================] - ETA: 0s - loss: 0.6188 - accuracy: 0.5814\n",
            "Epoch 129: loss did not improve from 0.61756\n",
            "61/61 [==============================] - 1s 12ms/step - loss: 0.6188 - accuracy: 0.5814 - lr: 1.0000e-04\n",
            "Epoch 130/150\n",
            "61/61 [==============================] - ETA: 0s - loss: 0.6192 - accuracy: 0.5685\n",
            "Epoch 130: loss did not improve from 0.61756\n",
            "61/61 [==============================] - 1s 11ms/step - loss: 0.6192 - accuracy: 0.5685 - lr: 1.0000e-04\n",
            "Epoch 131/150\n",
            "60/61 [============================>.] - ETA: 0s - loss: 0.6166 - accuracy: 0.5781\n",
            "Epoch 131: loss did not improve from 0.61756\n",
            "61/61 [==============================] - 1s 12ms/step - loss: 0.6180 - accuracy: 0.5762 - lr: 1.0000e-04\n",
            "Epoch 132/150\n",
            "61/61 [==============================] - ETA: 0s - loss: 0.6197 - accuracy: 0.5742\n",
            "Epoch 132: loss did not improve from 0.61756\n",
            "61/61 [==============================] - 1s 11ms/step - loss: 0.6197 - accuracy: 0.5742 - lr: 1.0000e-04\n",
            "Epoch 133/150\n",
            "60/61 [============================>.] - ETA: 0s - loss: 0.6168 - accuracy: 0.5747\n",
            "Epoch 133: loss did not improve from 0.61756\n",
            "61/61 [==============================] - 1s 11ms/step - loss: 0.6184 - accuracy: 0.5721 - lr: 1.0000e-04\n",
            "Epoch 134/150\n",
            "61/61 [==============================] - ETA: 0s - loss: 0.6187 - accuracy: 0.5742\n",
            "Epoch 134: loss did not improve from 0.61756\n",
            "61/61 [==============================] - 1s 12ms/step - loss: 0.6187 - accuracy: 0.5742 - lr: 1.0000e-04\n",
            "Epoch 135/150\n",
            "59/61 [============================>.] - ETA: 0s - loss: 0.6167 - accuracy: 0.5781\n",
            "Epoch 135: loss did not improve from 0.61756\n",
            "61/61 [==============================] - 1s 12ms/step - loss: 0.6195 - accuracy: 0.5747 - lr: 1.0000e-04\n",
            "Epoch 136/150\n",
            "61/61 [==============================] - ETA: 0s - loss: 0.6185 - accuracy: 0.5734\n",
            "Epoch 136: loss did not improve from 0.61756\n",
            "61/61 [==============================] - 1s 12ms/step - loss: 0.6185 - accuracy: 0.5734 - lr: 1.0000e-04\n",
            "Epoch 137/150\n",
            "60/61 [============================>.] - ETA: 0s - loss: 0.6185 - accuracy: 0.5784\n",
            "Epoch 137: loss did not improve from 0.61756\n",
            "61/61 [==============================] - 1s 12ms/step - loss: 0.6182 - accuracy: 0.5775 - lr: 1.0000e-04\n",
            "Epoch 138/150\n",
            "59/61 [============================>.] - ETA: 0s - loss: 0.6164 - accuracy: 0.5736\n",
            "Epoch 138: loss did not improve from 0.61756\n",
            "61/61 [==============================] - 1s 12ms/step - loss: 0.6186 - accuracy: 0.5719 - lr: 1.0000e-04\n",
            "Epoch 139/150\n",
            "60/61 [============================>.] - ETA: 0s - loss: 0.6171 - accuracy: 0.5753\n",
            "Epoch 139: loss improved from 0.61756 to 0.61739, saving model to nxtword.h5\n",
            "61/61 [==============================] - 1s 19ms/step - loss: 0.6174 - accuracy: 0.5744 - lr: 1.0000e-04\n",
            "Epoch 140/150\n",
            "60/61 [============================>.] - ETA: 0s - loss: 0.6164 - accuracy: 0.5750\n",
            "Epoch 140: loss did not improve from 0.61739\n",
            "61/61 [==============================] - 1s 12ms/step - loss: 0.6185 - accuracy: 0.5737 - lr: 1.0000e-04\n",
            "Epoch 141/150\n",
            "58/61 [===========================>..] - ETA: 0s - loss: 0.6173 - accuracy: 0.5830\n",
            "Epoch 141: loss did not improve from 0.61739\n",
            "61/61 [==============================] - 1s 12ms/step - loss: 0.6181 - accuracy: 0.5796 - lr: 1.0000e-04\n",
            "Epoch 142/150\n",
            "61/61 [==============================] - ETA: 0s - loss: 0.6193 - accuracy: 0.5701\n",
            "Epoch 142: loss did not improve from 0.61739\n",
            "61/61 [==============================] - 1s 11ms/step - loss: 0.6193 - accuracy: 0.5701 - lr: 1.0000e-04\n",
            "Epoch 143/150\n",
            "59/61 [============================>.] - ETA: 0s - loss: 0.6155 - accuracy: 0.5808\n",
            "Epoch 143: loss improved from 0.61739 to 0.61674, saving model to nxtword.h5\n",
            "61/61 [==============================] - 1s 19ms/step - loss: 0.6167 - accuracy: 0.5780 - lr: 1.0000e-04\n",
            "Epoch 144/150\n",
            "57/61 [===========================>..] - ETA: 0s - loss: 0.6177 - accuracy: 0.5842\n",
            "Epoch 144: loss did not improve from 0.61674\n",
            "61/61 [==============================] - 1s 12ms/step - loss: 0.6192 - accuracy: 0.5804 - lr: 1.0000e-04\n",
            "Epoch 145/150\n",
            "61/61 [==============================] - ETA: 0s - loss: 0.6182 - accuracy: 0.5796\n",
            "Epoch 145: loss did not improve from 0.61674\n",
            "61/61 [==============================] - 1s 12ms/step - loss: 0.6182 - accuracy: 0.5796 - lr: 1.0000e-04\n",
            "Epoch 146/150\n",
            "60/61 [============================>.] - ETA: 0s - loss: 0.6179 - accuracy: 0.5766\n",
            "Epoch 146: loss did not improve from 0.61674\n",
            "61/61 [==============================] - 1s 12ms/step - loss: 0.6179 - accuracy: 0.5755 - lr: 1.0000e-04\n",
            "Epoch 147/150\n",
            "61/61 [==============================] - ETA: 0s - loss: 0.6165 - accuracy: 0.5734\n",
            "Epoch 147: loss improved from 0.61674 to 0.61651, saving model to nxtword.h5\n",
            "61/61 [==============================] - 1s 19ms/step - loss: 0.6165 - accuracy: 0.5734 - lr: 1.0000e-04\n",
            "Epoch 148/150\n",
            "60/61 [============================>.] - ETA: 0s - loss: 0.6181 - accuracy: 0.5737\n",
            "Epoch 148: loss did not improve from 0.61651\n",
            "61/61 [==============================] - 1s 12ms/step - loss: 0.6190 - accuracy: 0.5724 - lr: 1.0000e-04\n",
            "Epoch 149/150\n",
            "61/61 [==============================] - ETA: 0s - loss: 0.6173 - accuracy: 0.5783\n",
            "Epoch 149: loss did not improve from 0.61651\n",
            "61/61 [==============================] - 1s 12ms/step - loss: 0.6173 - accuracy: 0.5783 - lr: 1.0000e-04\n",
            "Epoch 150/150\n",
            "59/61 [============================>.] - ETA: 0s - loss: 0.6169 - accuracy: 0.5736\n",
            "Epoch 150: loss did not improve from 0.61651\n",
            "61/61 [==============================] - 1s 12ms/step - loss: 0.6183 - accuracy: 0.5703 - lr: 1.0000e-04\n"
          ]
        }
      ]
    },
    {
      "cell_type": "markdown",
      "source": [
        "### **Model Analysis**"
      ],
      "metadata": {
        "id": "dbPP4ea6XXGz"
      }
    },
    {
      "cell_type": "code",
      "source": [
        "pickle.dump(history, open(\"history.p\", \"wb\"))\n",
        "history = pickle.load(open(\"history.p\", \"rb\"))"
      ],
      "metadata": {
        "id": "qNpyx9WwPh-h"
      },
      "execution_count": 20,
      "outputs": []
    },
    {
      "cell_type": "code",
      "source": [
        "import matplotlib.pyplot as plt\n",
        "plt.plot(history['accuracy'])\n",
        "plt.title('Model accuracy')\n",
        "plt.ylabel('accuracy')\n",
        "plt.xlabel('epoch')\n",
        "plt.legend(['train', 'test'], loc='upper left')"
      ],
      "metadata": {
        "colab": {
          "base_uri": "https://localhost:8080/",
          "height": 312
        },
        "id": "tluT9o8GSa7c",
        "outputId": "1ac07fb3-28bf-4a8c-b41b-2f93c8c7c674"
      },
      "execution_count": 28,
      "outputs": [
        {
          "output_type": "execute_result",
          "data": {
            "text/plain": [
              "<matplotlib.legend.Legend at 0x7f1390fdf250>"
            ]
          },
          "metadata": {},
          "execution_count": 28
        },
        {
          "output_type": "display_data",
          "data": {
            "text/plain": [
              "<Figure size 432x288 with 1 Axes>"
            ],
            "image/png": "[encoded data removed]"
          },
          "metadata": {
            "needs_background": "light"
          }
        }
      ]
    },
    {
      "cell_type": "code",
      "source": [
        "plt.plot(history['loss'])\n",
        "plt.title('Model loss')\n",
        "plt.ylabel('loss')\n",
        "plt.xlabel('epoch')\n",
        "plt.legend(['train', 'test'], loc='upper left')"
      ],
      "metadata": {
        "colab": {
          "base_uri": "https://localhost:8080/",
          "height": 312
        },
        "id": "I8NZ3jwdSntP",
        "outputId": "4cdf5f8c-ebab-4f04-a25f-a0120af2eed3"
      },
      "execution_count": 29,
      "outputs": [
        {
          "output_type": "execute_result",
          "data": {
            "text/plain": [
              "<matplotlib.legend.Legend at 0x7f1391014350>"
            ]
          },
          "metadata": {},
          "execution_count": 29
        },
        {
          "output_type": "display_data",
          "data": {
            "text/plain": [
              "<Figure size 432x288 with 1 Axes>"
            ],
            "image/png": "[encoded data removed]"
          },
          "metadata": {
            "needs_background": "light"
          }
        }
      ]
    }
  ]
}