{
  "nbformat": 4,
  "nbformat_minor": 0,
  "metadata": {
    "colab": {
      "name": "predScript.ipynb",
      "provenance": [],
      "collapsed_sections": [
        "3Xv8IEY2aLtw",
        "ESNt-ogZaQ7a",
        "nk34h1c3aV_T",
        "Kow10TUiaeyI"
      ],
      "authorship_tag": "ABX9TyNlJmR/Bz4opALC36MZARzC",
      "include_colab_link": true
    },
    "kernelspec": {
      "name": "python3",
      "display_name": "Python 3"
    },
    "language_info": {
      "name": "python"
    }
  },
  "cells": [
    {
      "cell_type": "markdown",
      "metadata": {
        "id": "view-in-github",
        "colab_type": "text"
      },
      "source": [
        "<a href=\"https://colab.research.google.com/github/yepedraza/nextword-predict/blob/master/predScript.ipynb\" target=\"_parent\"><img src=\"https://colab.research.google.com/assets/colab-badge.svg\" alt=\"Open In Colab\"/></a>"
      ]
    },
    {
      "cell_type": "markdown",
      "source": [
        "### **Google Drive connection**"
      ],
      "metadata": {
        "id": "3Xv8IEY2aLtw"
      }
    },
    {
      "cell_type": "code",
      "source": [
        "from google.colab import drive\n",
        "drive.mount('/content/drive')"
      ],
      "metadata": {
        "colab": {
          "base_uri": "https://localhost:8080/"
        },
        "id": "Z33ai56bUNqG",
        "outputId": "d5648fe7-5cc3-44f7-fa5a-c46e227e7408"
      },
      "execution_count": 3,
      "outputs": [
        {
          "output_type": "stream",
          "name": "stdout",
          "text": [
            "Mounted at /content/drive\n"
          ]
        }
      ]
    },
    {
      "cell_type": "markdown",
      "source": [
        "### **Libraries import**"
      ],
      "metadata": {
        "id": "ESNt-ogZaQ7a"
      }
    },
    {
      "cell_type": "code",
      "execution_count": 1,
      "metadata": {
        "id": "Aun_6OybTYLC"
      },
      "outputs": [],
      "source": [
        "from tensorflow.keras.models import load_model\n",
        "import numpy as np\n",
        "import pickle"
      ]
    },
    {
      "cell_type": "markdown",
      "source": [
        "### **Uploading model and tokenizer**"
      ],
      "metadata": {
        "id": "nk34h1c3aV_T"
      }
    },
    {
      "cell_type": "code",
      "source": [
        "model = load_model('/content/drive/MyDrive/Personal projects/nextword-prediction/nxtword.h5')\n",
        "tokenizer = pickle.load(open('/content/drive/MyDrive/Personal projects/nextword-prediction/tokenizer1.pkl', 'rb'))"
      ],
      "metadata": {
        "id": "gwiu93JXTfWe"
      },
      "execution_count": 4,
      "outputs": []
    },
    {
      "cell_type": "markdown",
      "source": [
        "### **Prediction function**"
      ],
      "metadata": {
        "id": "Kow10TUiaeyI"
      }
    },
    {
      "cell_type": "code",
      "source": [
        "def Predict_Next_Words(model, tokenizer, text):\n",
        "\n",
        "    for i in range(3):\n",
        "        sequence = tokenizer.texts_to_sequences([text])[0]\n",
        "        sequence = np.array(sequence)\n",
        "        \n",
        "        preds = model.predict_classes(sequence)\n",
        "        predicted_word = \"\"\n",
        "        \n",
        "        for key, value in tokenizer.word_index.items():\n",
        "            if value == preds:\n",
        "                predicted_word = key\n",
        "                break\n",
        "        \n",
        "        print(predicted_word)\n",
        "        return predicted_word"
      ],
      "metadata": {
        "id": "ROAb6ToYTiC0"
      },
      "execution_count": 8,
      "outputs": []
    },
    {
      "cell_type": "markdown",
      "source": [
        "## **Main**"
      ],
      "metadata": {
        "id": "9HhvHs3na3ZY"
      }
    },
    {
      "cell_type": "code",
      "source": [
        "while(True):\n",
        "\n",
        "    text = input(\"Enter your line: \")\n",
        "    \n",
        "    if text == \"stop the script\":\n",
        "        print(\"Ending The Program.....\")\n",
        "        break\n",
        "    \n",
        "    else:\n",
        "        try:\n",
        "            text = text.split(\" \")\n",
        "            text = text[-1]\n",
        "\n",
        "            text = ''.join(text)\n",
        "            Predict_Next_Words(model, tokenizer, text)\n",
        "            \n",
        "        except:\n",
        "            continue"
      ],
      "metadata": {
        "id": "242swj-TTznJ"
      },
      "execution_count": null,
      "outputs": []
    }
  ]
}